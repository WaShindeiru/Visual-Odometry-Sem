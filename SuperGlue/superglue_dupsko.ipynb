{
 "cells": [
  {
   "cell_type": "code",
   "id": "initial_id",
   "metadata": {
    "collapsed": true,
    "ExecuteTime": {
     "end_time": "2024-11-22T17:57:14.378377Z",
     "start_time": "2024-11-22T17:57:13.399641Z"
    }
   },
   "source": "import torch",
   "outputs": [],
   "execution_count": 1
  },
  {
   "metadata": {
    "ExecuteTime": {
     "end_time": "2024-11-22T17:59:59.947450Z",
     "start_time": "2024-11-22T17:59:59.945014Z"
    }
   },
   "cell_type": "code",
   "source": [
    "from SuperGlue.models.matching import Matching\n",
    "from SuperGlue.models.utils import *\n",
    "from tools import *\n",
    "\n",
    "import matplotlib.pyplot as plt"
   ],
   "id": "45e2c6db0587e489",
   "outputs": [],
   "execution_count": 4
  },
  {
   "metadata": {
    "ExecuteTime": {
     "end_time": "2024-11-22T18:00:01.766978Z",
     "start_time": "2024-11-22T18:00:01.637001Z"
    }
   },
   "cell_type": "code",
   "source": [
    "device = 'cuda' if torch.cuda.is_available() else 'cpu'\n",
    "\n",
    "config = {\n",
    " 'superpoint': {\n",
    "    'nms_radius': 4,\n",
    "    'keypoint_threshold': 0.005,\n",
    "    'max_keypoints': 1024\n",
    " },\n",
    " 'superglue': {\n",
    "    # 'indoor', 'outdoor'\n",
    "    'weights': 'outdoor',\n",
    "    'sinkhorn_iterations': 20,\n",
    "    'match_threshold': 0.2,\n",
    " }\n",
    "}\n",
    "\n",
    "matching = Matching(config).eval().to(device)"
   ],
   "id": "4f053fbed00b8e6d",
   "outputs": [
    {
     "name": "stdout",
     "output_type": "stream",
     "text": [
      "Loaded SuperPoint model\n",
      "Loaded SuperGlue model (\"outdoor\" weights)\n"
     ]
    }
   ],
   "execution_count": 5
  },
  {
   "metadata": {},
   "cell_type": "code",
   "outputs": [],
   "execution_count": null,
   "source": "",
   "id": "8b6c8689bc262d1c"
  },
  {
   "metadata": {
    "ExecuteTime": {
     "end_time": "2024-11-22T18:00:03.997599Z",
     "start_time": "2024-11-22T18:00:03.675087Z"
    }
   },
   "cell_type": "code",
   "source": [
    "dataset_handler = DatasetHandler_m2dgr(\"m2dgr3\")\n",
    "dataset_handler.reset_frames()"
   ],
   "id": "a8240923f392349b",
   "outputs": [
    {
     "ename": "FileNotFoundError",
     "evalue": "[Errno 2] No such file or directory: '../dataset/m2dgr3/image_0'",
     "output_type": "error",
     "traceback": [
      "\u001B[0;31m---------------------------------------------------------------------------\u001B[0m",
      "\u001B[0;31mFileNotFoundError\u001B[0m                         Traceback (most recent call last)",
      "Cell \u001B[0;32mIn[6], line 1\u001B[0m\n\u001B[0;32m----> 1\u001B[0m dataset_handler \u001B[38;5;241m=\u001B[39m DatasetHandler_m2dgr(\u001B[38;5;124m\"\u001B[39m\u001B[38;5;124mm2dgr3\u001B[39m\u001B[38;5;124m\"\u001B[39m)\n\u001B[1;32m      2\u001B[0m dataset_handler\u001B[38;5;241m.\u001B[39mreset_frames()\n",
      "File \u001B[0;32m~/studia/7_semestr/vo/visual_odometry/tools/dataset_m2dgr.py:15\u001B[0m, in \u001B[0;36mDatasetHandler_m2dgr.__init__\u001B[0;34m(self, sequence_name)\u001B[0m\n\u001B[1;32m     11\u001B[0m \u001B[38;5;28mself\u001B[39m\u001B[38;5;241m.\u001B[39mseq_dir \u001B[38;5;241m=\u001B[39m \u001B[38;5;124mf\u001B[39m\u001B[38;5;124m\"\u001B[39m\u001B[38;5;124m../dataset/\u001B[39m\u001B[38;5;132;01m{\u001B[39;00msequence_name\u001B[38;5;132;01m}\u001B[39;00m\u001B[38;5;124m\"\u001B[39m\n\u001B[1;32m     12\u001B[0m \u001B[38;5;66;03m# self.poses_dir = f\"../dataset/{sequence_name}/poses.txt\"\u001B[39;00m\n\u001B[1;32m     13\u001B[0m \u001B[38;5;66;03m# poses = pd.read_csv(self.poses_dir, sep=\" \", header=None)\u001B[39;00m\n\u001B[0;32m---> 15\u001B[0m \u001B[38;5;28mself\u001B[39m\u001B[38;5;241m.\u001B[39mleft_image_path_list \u001B[38;5;241m=\u001B[39m \u001B[38;5;28msorted\u001B[39m(os\u001B[38;5;241m.\u001B[39mlistdir(\u001B[38;5;28mself\u001B[39m\u001B[38;5;241m.\u001B[39mseq_dir \u001B[38;5;241m+\u001B[39m \u001B[38;5;124m\"\u001B[39m\u001B[38;5;124m/image_0\u001B[39m\u001B[38;5;124m\"\u001B[39m), key\u001B[38;5;241m=\u001B[39m\u001B[38;5;28;01mlambda\u001B[39;00m x: \u001B[38;5;28mint\u001B[39m(x\u001B[38;5;241m.\u001B[39msplit(\u001B[38;5;124m\"\u001B[39m\u001B[38;5;124m.\u001B[39m\u001B[38;5;124m\"\u001B[39m)[\u001B[38;5;241m0\u001B[39m]))\n\u001B[1;32m     16\u001B[0m \u001B[38;5;28mself\u001B[39m\u001B[38;5;241m.\u001B[39mnum_frames \u001B[38;5;241m=\u001B[39m \u001B[38;5;28mlen\u001B[39m(\u001B[38;5;28mself\u001B[39m\u001B[38;5;241m.\u001B[39mleft_image_path_list)\n\u001B[1;32m     18\u001B[0m calib \u001B[38;5;241m=\u001B[39m pd\u001B[38;5;241m.\u001B[39mread_csv(\u001B[38;5;28mself\u001B[39m\u001B[38;5;241m.\u001B[39mseq_dir \u001B[38;5;241m+\u001B[39m \u001B[38;5;124m\"\u001B[39m\u001B[38;5;124m/calib.txt\u001B[39m\u001B[38;5;124m\"\u001B[39m, sep\u001B[38;5;241m=\u001B[39m\u001B[38;5;124m\"\u001B[39m\u001B[38;5;124m \u001B[39m\u001B[38;5;124m\"\u001B[39m, header\u001B[38;5;241m=\u001B[39m\u001B[38;5;28;01mNone\u001B[39;00m, index_col\u001B[38;5;241m=\u001B[39m\u001B[38;5;241m0\u001B[39m)\n",
      "\u001B[0;31mFileNotFoundError\u001B[0m: [Errno 2] No such file or directory: '../dataset/m2dgr3/image_0'"
     ]
    }
   ],
   "execution_count": 6
  },
  {
   "metadata": {},
   "cell_type": "code",
   "outputs": [],
   "execution_count": null,
   "source": [
    "image_current = next(dataset_handler.images_left)\n",
    "image_next = next(dataset_handler.images_left)"
   ],
   "id": "561b28b32c991aa"
  },
  {
   "metadata": {},
   "cell_type": "code",
   "outputs": [],
   "execution_count": null,
   "source": [
    "fig, (ax1, ax2) = plt.subplots(1, 2)\n",
    "ax1.imshow(image_current)\n",
    "ax2.imshow(image_next)"
   ],
   "id": "82ebf88f47128a1a"
  },
  {
   "metadata": {},
   "cell_type": "code",
   "outputs": [],
   "execution_count": null,
   "source": [
    " image0, resized_first_image, scales0 = transform_image(image_current, 'cuda', (640, 480))\n",
    " image1, resized_second_image, scales1 = transform_image(image_next, 'cuda', (640, 480))"
   ],
   "id": "4c6df88daeb5d4a2"
  }
 ],
 "metadata": {
  "kernelspec": {
   "display_name": "Python 3",
   "language": "python",
   "name": "python3"
  },
  "language_info": {
   "codemirror_mode": {
    "name": "ipython",
    "version": 2
   },
   "file_extension": ".py",
   "mimetype": "text/x-python",
   "name": "python",
   "nbconvert_exporter": "python",
   "pygments_lexer": "ipython2",
   "version": "2.7.6"
  }
 },
 "nbformat": 4,
 "nbformat_minor": 5
}
